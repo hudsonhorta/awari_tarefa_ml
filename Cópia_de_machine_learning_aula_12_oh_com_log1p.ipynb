{
  "nbformat": 4,
  "nbformat_minor": 0,
  "metadata": {
    "colab": {
      "name": "Cópia de machine_learning_aula_12_oh_com_log1p.ipynb",
      "provenance": [],
      "collapsed_sections": [
        "owMwndsSVhGu",
        "oPyat1siWkzt",
        "98aJT7f3V-Ww",
        "9E9ZbdE2WG2S",
        "WpHIA_8BWyL0",
        "5NFzxvFOJsaE",
        "jvEeXS_GD23L",
        "SscZeK99W6--",
        "fUssX7kJXTMc",
        "v5iKEkaysz3D",
        "jVAW_hrCDhPc",
        "QN6Db0xzmEY_",
        "BmO6961TFckK",
        "mVCQygQzFGjr",
        "H1rBfjkPyJnA"
      ],
      "include_colab_link": true
    },
    "kernelspec": {
      "name": "python3",
      "display_name": "Python 3"
    },
    "language_info": {
      "name": "python"
    }
  },
  "cells": [
    {
      "cell_type": "markdown",
      "metadata": {
        "id": "view-in-github",
        "colab_type": "text"
      },
      "source": [
        "<a href=\"https://colab.research.google.com/github/hudsonhorta/awari_tarefa_ml/blob/main/C%C3%B3pia_de_machine_learning_aula_12_oh_com_log1p.ipynb\" target=\"_parent\"><img src=\"https://colab.research.google.com/assets/colab-badge.svg\" alt=\"Open In Colab\"/></a>"
      ]
    },
    {
      "cell_type": "markdown",
      "metadata": {
        "id": "owMwndsSVhGu"
      },
      "source": [
        "# Importando pacotes e módulos"
      ]
    },
    {
      "cell_type": "code",
      "metadata": {
        "id": "rCZBy_vlI4AW"
      },
      "source": [
        "import pandas as pd\n",
        "import numpy as np\n",
        "from sklearn.model_selection import train_test_split\n",
        "from sklearn.linear_model import LinearRegression\n",
        "from sklearn.neighbors import KNeighborsRegressor\n",
        "from sklearn.tree import DecisionTreeRegressor, plot_tree\n",
        "from sklearn.metrics import r2_score, mean_squared_error, mean_absolute_error\n",
        "import matplotlib.pyplot as plt\n",
        "from sklearn.ensemble import RandomForestRegressor\n",
        "from sklearn.model_selection import GridSearchCV, cross_val_score\n",
        "from sklearn.dummy import DummyRegressor"
      ],
      "execution_count": 1,
      "outputs": []
    },
    {
      "cell_type": "markdown",
      "metadata": {
        "id": "oPyat1siWkzt"
      },
      "source": [
        "# Declarando constantes"
      ]
    },
    {
      "cell_type": "code",
      "metadata": {
        "id": "EIhILW9rWjx6"
      },
      "source": [
        "SEED = 42 # semente aleatória"
      ],
      "execution_count": 2,
      "outputs": []
    },
    {
      "cell_type": "markdown",
      "metadata": {
        "id": "98aJT7f3V-Ww"
      },
      "source": [
        "# Carregando e salvando o arquivo de dados"
      ]
    },
    {
      "cell_type": "code",
      "metadata": {
        "id": "_ELOWycFdgKs"
      },
      "source": [
        "url = 'https://raw.githubusercontent.com/cassiasamp/calculadora-de-imoveis-mar-21/main/manipulacao-de-dados/dados_tratados_ml.csv'\n",
        "df = pd.read_csv(url)"
      ],
      "execution_count": 3,
      "outputs": []
    },
    {
      "cell_type": "code",
      "metadata": {
        "colab": {
          "base_uri": "https://localhost:8080/",
          "height": 0
        },
        "id": "3MMIXNRedqW6",
        "outputId": "472d74fc-47ae-4bc8-9f67-281d8d41d717"
      },
      "source": [
        "df.head()"
      ],
      "execution_count": 4,
      "outputs": [
        {
          "output_type": "execute_result",
          "data": {
            "text/html": [
              "<div>\n",
              "<style scoped>\n",
              "    .dataframe tbody tr th:only-of-type {\n",
              "        vertical-align: middle;\n",
              "    }\n",
              "\n",
              "    .dataframe tbody tr th {\n",
              "        vertical-align: top;\n",
              "    }\n",
              "\n",
              "    .dataframe thead th {\n",
              "        text-align: right;\n",
              "    }\n",
              "</style>\n",
              "<table border=\"1\" class=\"dataframe\">\n",
              "  <thead>\n",
              "    <tr style=\"text-align: right;\">\n",
              "      <th></th>\n",
              "      <th>aluguel</th>\n",
              "      <th>zona</th>\n",
              "      <th>area</th>\n",
              "      <th>quarto</th>\n",
              "    </tr>\n",
              "  </thead>\n",
              "  <tbody>\n",
              "    <tr>\n",
              "      <th>0</th>\n",
              "      <td>1000.0</td>\n",
              "      <td>sul</td>\n",
              "      <td>48.0</td>\n",
              "      <td>2.0</td>\n",
              "    </tr>\n",
              "    <tr>\n",
              "      <th>1</th>\n",
              "      <td>1200.0</td>\n",
              "      <td>sul</td>\n",
              "      <td>67.0</td>\n",
              "      <td>3.0</td>\n",
              "    </tr>\n",
              "    <tr>\n",
              "      <th>2</th>\n",
              "      <td>1300.0</td>\n",
              "      <td>sul</td>\n",
              "      <td>65.0</td>\n",
              "      <td>2.0</td>\n",
              "    </tr>\n",
              "    <tr>\n",
              "      <th>3</th>\n",
              "      <td>1280.0</td>\n",
              "      <td>sul</td>\n",
              "      <td>65.0</td>\n",
              "      <td>2.0</td>\n",
              "    </tr>\n",
              "    <tr>\n",
              "      <th>4</th>\n",
              "      <td>1100.0</td>\n",
              "      <td>sul</td>\n",
              "      <td>50.0</td>\n",
              "      <td>2.0</td>\n",
              "    </tr>\n",
              "  </tbody>\n",
              "</table>\n",
              "</div>"
            ],
            "text/plain": [
              "   aluguel zona  area  quarto\n",
              "0   1000.0  sul  48.0     2.0\n",
              "1   1200.0  sul  67.0     3.0\n",
              "2   1300.0  sul  65.0     2.0\n",
              "3   1280.0  sul  65.0     2.0\n",
              "4   1100.0  sul  50.0     2.0"
            ]
          },
          "metadata": {
            "tags": []
          },
          "execution_count": 4
        }
      ]
    },
    {
      "cell_type": "markdown",
      "metadata": {
        "id": "9E9ZbdE2WG2S"
      },
      "source": [
        "# Dividindo o arquivo entre X (dados que colocaremos no modelo) e y (dados que vamos prever)"
      ]
    },
    {
      "cell_type": "code",
      "metadata": {
        "id": "5aJAOg5pd3MR"
      },
      "source": [
        "X = df.drop('aluguel', axis=1)\n",
        "y = df['aluguel']"
      ],
      "execution_count": null,
      "outputs": []
    },
    {
      "cell_type": "code",
      "metadata": {
        "colab": {
          "base_uri": "https://localhost:8080/"
        },
        "id": "q4bWfy_Pd_vA",
        "outputId": "f4a0153e-11e6-43f1-f53f-85e89e9ea31e"
      },
      "source": [
        "X.head()"
      ],
      "execution_count": null,
      "outputs": [
        {
          "output_type": "execute_result",
          "data": {
            "text/html": [
              "<div>\n",
              "<style scoped>\n",
              "    .dataframe tbody tr th:only-of-type {\n",
              "        vertical-align: middle;\n",
              "    }\n",
              "\n",
              "    .dataframe tbody tr th {\n",
              "        vertical-align: top;\n",
              "    }\n",
              "\n",
              "    .dataframe thead th {\n",
              "        text-align: right;\n",
              "    }\n",
              "</style>\n",
              "<table border=\"1\" class=\"dataframe\">\n",
              "  <thead>\n",
              "    <tr style=\"text-align: right;\">\n",
              "      <th></th>\n",
              "      <th>zona</th>\n",
              "      <th>area</th>\n",
              "      <th>quarto</th>\n",
              "    </tr>\n",
              "  </thead>\n",
              "  <tbody>\n",
              "    <tr>\n",
              "      <th>0</th>\n",
              "      <td>sul</td>\n",
              "      <td>48.0</td>\n",
              "      <td>2.0</td>\n",
              "    </tr>\n",
              "    <tr>\n",
              "      <th>1</th>\n",
              "      <td>sul</td>\n",
              "      <td>67.0</td>\n",
              "      <td>3.0</td>\n",
              "    </tr>\n",
              "    <tr>\n",
              "      <th>2</th>\n",
              "      <td>sul</td>\n",
              "      <td>65.0</td>\n",
              "      <td>2.0</td>\n",
              "    </tr>\n",
              "    <tr>\n",
              "      <th>3</th>\n",
              "      <td>sul</td>\n",
              "      <td>65.0</td>\n",
              "      <td>2.0</td>\n",
              "    </tr>\n",
              "    <tr>\n",
              "      <th>4</th>\n",
              "      <td>sul</td>\n",
              "      <td>50.0</td>\n",
              "      <td>2.0</td>\n",
              "    </tr>\n",
              "  </tbody>\n",
              "</table>\n",
              "</div>"
            ],
            "text/plain": [
              "  zona  area  quarto\n",
              "0  sul  48.0     2.0\n",
              "1  sul  67.0     3.0\n",
              "2  sul  65.0     2.0\n",
              "3  sul  65.0     2.0\n",
              "4  sul  50.0     2.0"
            ]
          },
          "metadata": {
            "tags": []
          },
          "execution_count": 6
        }
      ]
    },
    {
      "cell_type": "code",
      "metadata": {
        "colab": {
          "base_uri": "https://localhost:8080/"
        },
        "id": "gNul8MrLcfqr",
        "outputId": "50a10aa3-3ce2-4e0a-9c9b-92279b2169c6"
      },
      "source": [
        "y.head()"
      ],
      "execution_count": null,
      "outputs": [
        {
          "output_type": "execute_result",
          "data": {
            "text/plain": [
              "0    1000.0\n",
              "1    1200.0\n",
              "2    1300.0\n",
              "3    1280.0\n",
              "4    1100.0\n",
              "Name: aluguel, dtype: float64"
            ]
          },
          "metadata": {
            "tags": []
          },
          "execution_count": 7
        }
      ]
    },
    {
      "cell_type": "markdown",
      "metadata": {
        "id": "ufMnJcUwWV2S"
      },
      "source": [
        "## Fazendo o one hot encoding das variáveis catgóricas de Zona"
      ]
    },
    {
      "cell_type": "code",
      "metadata": {
        "colab": {
          "base_uri": "https://localhost:8080/"
        },
        "id": "f30uWa8_lI6W",
        "outputId": "861c60d2-9fa4-44bf-c92f-1ea7e4c391a5"
      },
      "source": [
        "X['zona'].unique()"
      ],
      "execution_count": null,
      "outputs": [
        {
          "output_type": "execute_result",
          "data": {
            "text/plain": [
              "array(['sul', 'norte', 'leste', 'oeste'], dtype=object)"
            ]
          },
          "metadata": {
            "tags": []
          },
          "execution_count": 8
        }
      ]
    },
    {
      "cell_type": "code",
      "metadata": {
        "id": "QsSQquHPntWb"
      },
      "source": [
        "X = pd.get_dummies(X)"
      ],
      "execution_count": null,
      "outputs": []
    },
    {
      "cell_type": "markdown",
      "metadata": {
        "id": "WpHIA_8BWyL0"
      },
      "source": [
        "# Dividindo os dados entre treino e teste"
      ]
    },
    {
      "cell_type": "code",
      "metadata": {
        "id": "65AyIa6ghcg6"
      },
      "source": [
        "X_treino, X_teste, y_treino, y_teste = train_test_split(X, y, \n",
        "                                                        test_size=0.2, \n",
        "                                                        train_size=0.8, \n",
        "                                                        random_state=SEED)"
      ],
      "execution_count": null,
      "outputs": []
    },
    {
      "cell_type": "markdown",
      "metadata": {
        "id": "5NFzxvFOJsaE"
      },
      "source": [
        "# Fazendo a transformação para log + 1 dos dados de treino"
      ]
    },
    {
      "cell_type": "code",
      "metadata": {
        "id": "qT9z3MVcJ08U"
      },
      "source": [
        "X_treino = np.log1p(X_treino)\n",
        "y_treino = np.log1p(y_treino)"
      ],
      "execution_count": null,
      "outputs": []
    },
    {
      "cell_type": "markdown",
      "metadata": {
        "id": "jvEeXS_GD23L"
      },
      "source": [
        "# Usando um modelo de base (baseline)"
      ]
    },
    {
      "cell_type": "code",
      "metadata": {
        "id": "LjmPMV-SECMZ"
      },
      "source": [
        "baseline = DummyRegressor(strategy='mean')\n",
        "baseline.fit(X_treino, y_treino)\n",
        "y_pred_base = baseline.predict(np.log1p(X_teste))"
      ],
      "execution_count": null,
      "outputs": []
    },
    {
      "cell_type": "code",
      "metadata": {
        "colab": {
          "base_uri": "https://localhost:8080/"
        },
        "id": "khzc3PyxEsKn",
        "outputId": "4d380119-4382-4c6e-ab74-9da0eb36d9d5"
      },
      "source": [
        "print('O R² do modelo de base que sempre prevê a média é:', baseline.score(np.log1p(X_teste), np.log1p(y_teste)))"
      ],
      "execution_count": null,
      "outputs": [
        {
          "output_type": "stream",
          "text": [
            "O R² do modelo de base que sempre prevê a média é: -0.007764930678441972\n"
          ],
          "name": "stdout"
        }
      ]
    },
    {
      "cell_type": "markdown",
      "metadata": {
        "id": "SscZeK99W6--"
      },
      "source": [
        "# Aplicando um modelo de Regressão Linear"
      ]
    },
    {
      "cell_type": "code",
      "metadata": {
        "id": "dPyA2ZmzjM2l"
      },
      "source": [
        "reg = LinearRegression()\n",
        "reg.fit(X_treino, y_treino)\n",
        "y_pred = reg.predict(np.log1p(X_teste))"
      ],
      "execution_count": null,
      "outputs": []
    },
    {
      "cell_type": "code",
      "metadata": {
        "id": "LRDOtQ-frRPR"
      },
      "source": [
        "predicao_em_log1p = reg.predict([np.log1p([62.0, 2, 1, 0, 0, 0])]) # valor real foi 1.500"
      ],
      "execution_count": null,
      "outputs": []
    },
    {
      "cell_type": "code",
      "metadata": {
        "colab": {
          "base_uri": "https://localhost:8080/"
        },
        "id": "Vakv-MUrKos7",
        "outputId": "4689d986-1b3f-4c81-e8a6-b3fc1653f29e"
      },
      "source": [
        "predicao_em_log1p"
      ],
      "execution_count": null,
      "outputs": [
        {
          "output_type": "execute_result",
          "data": {
            "text/plain": [
              "array([7.37911562])"
            ]
          },
          "metadata": {
            "tags": []
          },
          "execution_count": 25
        }
      ]
    },
    {
      "cell_type": "code",
      "metadata": {
        "colab": {
          "base_uri": "https://localhost:8080/"
        },
        "id": "G9YhzhNnKicW",
        "outputId": "751de85e-4b6a-4758-d5ff-0f63ae001f2d"
      },
      "source": [
        "np.expm1(predicao)"
      ],
      "execution_count": null,
      "outputs": [
        {
          "output_type": "execute_result",
          "data": {
            "text/plain": [
              "array([1601.17220588])"
            ]
          },
          "metadata": {
            "tags": []
          },
          "execution_count": 26
        }
      ]
    },
    {
      "cell_type": "code",
      "metadata": {
        "colab": {
          "base_uri": "https://localhost:8080/"
        },
        "id": "qraB3qp8mfOy",
        "outputId": "d8e5be7d-047a-4006-869a-7e45529c788c"
      },
      "source": [
        "reg.score(np.log1p(X_teste), np.log1p(y_teste)) "
      ],
      "execution_count": null,
      "outputs": [
        {
          "output_type": "execute_result",
          "data": {
            "text/plain": [
              "0.48911199163465024"
            ]
          },
          "metadata": {
            "tags": []
          },
          "execution_count": 27
        }
      ]
    },
    {
      "cell_type": "code",
      "metadata": {
        "colab": {
          "base_uri": "https://localhost:8080/"
        },
        "id": "XLqVHvV-vMwS",
        "outputId": "83a421e0-4a6a-446f-e609-6079e5a94510"
      },
      "source": [
        "reg.coef_"
      ],
      "execution_count": null,
      "outputs": [
        {
          "output_type": "execute_result",
          "data": {
            "text/plain": [
              "array([ 0.57322419, -0.04009874, -0.36131075, -0.21735007,  0.30228777,\n",
              "        0.27637306])"
            ]
          },
          "metadata": {
            "tags": []
          },
          "execution_count": 28
        }
      ]
    },
    {
      "cell_type": "code",
      "metadata": {
        "colab": {
          "base_uri": "https://localhost:8080/"
        },
        "id": "KMz0M49VkyZX",
        "outputId": "b4089fcc-bffc-45b6-d624-0375700ba6d8"
      },
      "source": [
        "reg.intercept_"
      ],
      "execution_count": null,
      "outputs": [
        {
          "output_type": "execute_result",
          "data": {
            "text/plain": [
              "5.298665065924616"
            ]
          },
          "metadata": {
            "tags": []
          },
          "execution_count": 29
        }
      ]
    },
    {
      "cell_type": "code",
      "metadata": {
        "colab": {
          "base_uri": "https://localhost:8080/"
        },
        "id": "3U3Qs_FRn2fh",
        "outputId": "e46c9bce-a41c-4615-dd97-75a7051ed326"
      },
      "source": [
        "r2_score(np.log1p(y_teste), y_pred)"
      ],
      "execution_count": null,
      "outputs": [
        {
          "output_type": "execute_result",
          "data": {
            "text/plain": [
              "0.48911199163465024"
            ]
          },
          "metadata": {
            "tags": []
          },
          "execution_count": 30
        }
      ]
    },
    {
      "cell_type": "markdown",
      "metadata": {
        "id": "fUssX7kJXTMc"
      },
      "source": [
        "# Calculando medidas de erro para o modelo de regressão: MAE, MSE, RMSE"
      ]
    },
    {
      "cell_type": "code",
      "metadata": {
        "id": "t5yTZteJvPYh",
        "colab": {
          "base_uri": "https://localhost:8080/"
        },
        "outputId": "32a41f07-574d-44e6-a07c-e84f5fcb0152"
      },
      "source": [
        "mean_absolute_error(np.log1p(y_teste), y_pred) # MAE"
      ],
      "execution_count": null,
      "outputs": [
        {
          "output_type": "execute_result",
          "data": {
            "text/plain": [
              "0.29768882393985957"
            ]
          },
          "metadata": {
            "tags": []
          },
          "execution_count": 31
        }
      ]
    },
    {
      "cell_type": "code",
      "metadata": {
        "colab": {
          "base_uri": "https://localhost:8080/"
        },
        "id": "RnwlMMuErbkj",
        "outputId": "4b7d6f59-2e1f-484a-fb05-9c4291a8468f"
      },
      "source": [
        "mean_squared_error(np.log1p(y_teste), y_pred) # MSE"
      ],
      "execution_count": null,
      "outputs": [
        {
          "output_type": "execute_result",
          "data": {
            "text/plain": [
              "0.14332254175447987"
            ]
          },
          "metadata": {
            "tags": []
          },
          "execution_count": 32
        }
      ]
    },
    {
      "cell_type": "code",
      "metadata": {
        "colab": {
          "base_uri": "https://localhost:8080/"
        },
        "id": "99DW-aE6rd7J",
        "outputId": "0f11c727-d82d-4359-8c70-b8deed5c572c"
      },
      "source": [
        "mean_squared_error(np.log1p(y_teste), y_pred, squared=False) # RMSE"
      ],
      "execution_count": null,
      "outputs": [
        {
          "output_type": "execute_result",
          "data": {
            "text/plain": [
              "0.3785796372686728"
            ]
          },
          "metadata": {
            "tags": []
          },
          "execution_count": 33
        }
      ]
    },
    {
      "cell_type": "markdown",
      "metadata": {
        "id": "v5iKEkaysz3D"
      },
      "source": [
        "# Aplicando um modelo de KNN (K vizinhos mais próximos)"
      ]
    },
    {
      "cell_type": "code",
      "metadata": {
        "id": "5024ntGVAs-z"
      },
      "source": [
        "knn = KNeighborsRegressor()"
      ],
      "execution_count": null,
      "outputs": []
    },
    {
      "cell_type": "code",
      "metadata": {
        "colab": {
          "base_uri": "https://localhost:8080/"
        },
        "id": "j2C3gGttBQ4q",
        "outputId": "b8107a68-f9f1-4a6d-d64e-fc8219a0c153"
      },
      "source": [
        "knn # hiperparâmetros"
      ],
      "execution_count": null,
      "outputs": [
        {
          "output_type": "execute_result",
          "data": {
            "text/plain": [
              "KNeighborsRegressor(algorithm='auto', leaf_size=30, metric='minkowski',\n",
              "                    metric_params=None, n_jobs=None, n_neighbors=5, p=2,\n",
              "                    weights='uniform')"
            ]
          },
          "metadata": {
            "tags": []
          },
          "execution_count": 35
        }
      ]
    },
    {
      "cell_type": "code",
      "metadata": {
        "colab": {
          "base_uri": "https://localhost:8080/"
        },
        "id": "SRXdy1v7BSL5",
        "outputId": "f9c16fbd-f081-4557-9d46-fe18d3f4d052"
      },
      "source": [
        "knn.fit(X_treino, y_treino)"
      ],
      "execution_count": null,
      "outputs": [
        {
          "output_type": "execute_result",
          "data": {
            "text/plain": [
              "KNeighborsRegressor(algorithm='auto', leaf_size=30, metric='minkowski',\n",
              "                    metric_params=None, n_jobs=None, n_neighbors=5, p=2,\n",
              "                    weights='uniform')"
            ]
          },
          "metadata": {
            "tags": []
          },
          "execution_count": 36
        }
      ]
    },
    {
      "cell_type": "code",
      "metadata": {
        "id": "ak6d2fhVBoNL"
      },
      "source": [
        "y_pred_knn = knn.predict(np.log1p(X_teste))"
      ],
      "execution_count": null,
      "outputs": []
    },
    {
      "cell_type": "markdown",
      "metadata": {
        "id": "6VF5P9llX6lU"
      },
      "source": [
        "## Comparando as métricas entre KNN e Regressão Linear"
      ]
    },
    {
      "cell_type": "code",
      "metadata": {
        "colab": {
          "base_uri": "https://localhost:8080/"
        },
        "id": "c696sOaZBwqf",
        "outputId": "fae78471-f6d7-49c9-e55a-a3c91868bff4"
      },
      "source": [
        "print('Métricas do KNN com 5 vizinhos')\n",
        "print('O R² foi:' , knn.score(np.log1p(X_teste), np.log1p(y_teste)))\n",
        "print('O MAE foi:' , mean_absolute_error(np.log1p(y_teste), y_pred_knn))\n",
        "print('O MSE foi:' , mean_squared_error(np.log1p(y_teste), y_pred_knn))"
      ],
      "execution_count": null,
      "outputs": [
        {
          "output_type": "stream",
          "text": [
            "Métricas do KNN com 5 vizinhos\n",
            "O R² foi: 0.43731428088990276\n",
            "O MAE foi: 0.30938768503535347\n",
            "O MSE foi: 0.15785367076796727\n"
          ],
          "name": "stdout"
        }
      ]
    },
    {
      "cell_type": "code",
      "metadata": {
        "colab": {
          "base_uri": "https://localhost:8080/"
        },
        "id": "NkAPrkE2CNtV",
        "outputId": "7fa42381-2d0f-4f63-adad-d94fd60c9065"
      },
      "source": [
        "print('Métricas da Regressão Linear')\n",
        "print('O R² foi:' , reg.score(np.log1p(X_teste), np.log1p(y_teste)))\n",
        "print('O MAE foi:' , mean_absolute_error(np.log1p(y_teste), y_pred))\n",
        "print('O MSE foi:' , mean_squared_error(np.log1p(y_teste), y_pred))"
      ],
      "execution_count": null,
      "outputs": [
        {
          "output_type": "stream",
          "text": [
            "Métricas da Regressão Linear\n",
            "O R² foi: 0.48911199163465024\n",
            "O MAE foi: 0.29768882393985957\n",
            "O MSE foi: 0.14332254175447987\n"
          ],
          "name": "stdout"
        }
      ]
    },
    {
      "cell_type": "markdown",
      "metadata": {
        "id": "jVAW_hrCDhPc"
      },
      "source": [
        "# Aplicando um modelo de Árvore de Decisão"
      ]
    },
    {
      "cell_type": "code",
      "metadata": {
        "id": "6pyIYQcpDenO"
      },
      "source": [
        "dt = DecisionTreeRegressor(max_depth=3,)\n",
        "dt.fit(X_treino, y_treino)\n",
        "y_pred_dt = dt.predict(np.log1p(X_teste))"
      ],
      "execution_count": null,
      "outputs": []
    },
    {
      "cell_type": "markdown",
      "metadata": {
        "id": "LuJFqDIbgSp0"
      },
      "source": [
        "## Visualizando a Árvore de Decisão"
      ]
    },
    {
      "cell_type": "code",
      "metadata": {
        "colab": {
          "base_uri": "https://localhost:8080/"
        },
        "id": "pJWjW534gZiP",
        "outputId": "7e596b51-08c9-47c0-8185-6e06622de446"
      },
      "source": [
        "X_treino.columns"
      ],
      "execution_count": null,
      "outputs": [
        {
          "output_type": "execute_result",
          "data": {
            "text/plain": [
              "Index(['area', 'quarto', 'zona_leste', 'zona_norte', 'zona_oeste', 'zona_sul'], dtype='object')"
            ]
          },
          "metadata": {
            "tags": []
          },
          "execution_count": 41
        }
      ]
    },
    {
      "cell_type": "code",
      "metadata": {
        "colab": {
          "base_uri": "https://localhost:8080/",
          "height": 575
        },
        "id": "lcoJe3i7ftu9",
        "outputId": "1cf58f31-8bd5-4b38-e2d0-d56910849b6c"
      },
      "source": [
        "plt.figure(figsize=(15, 10))\n",
        "\n",
        "plot_tree(dt, feature_names=X_treino.columns, filled=True);"
      ],
      "execution_count": null,
      "outputs": [
        {
          "output_type": "display_data",
          "data": {
            "image/png": "[encoded data removed]",
            "text/plain": [
              "<Figure size 1080x720 with 1 Axes>"
            ]
          },
          "metadata": {
            "tags": [],
            "needs_background": "light"
          }
        }
      ]
    },
    {
      "cell_type": "code",
      "metadata": {
        "colab": {
          "base_uri": "https://localhost:8080/"
        },
        "id": "x3VcfAOoj3e9",
        "outputId": "d6afc7fd-d5ec-40c9-c763-903c860e7ad7"
      },
      "source": [
        "for feature in zip(X_treino.columns, dt.feature_importances_):\n",
        "  print(feature)\n",
        "  print('---')"
      ],
      "execution_count": null,
      "outputs": [
        {
          "output_type": "stream",
          "text": [
            "('area', 0.7698714176682245)\n",
            "---\n",
            "('quarto', 0.0)\n",
            "---\n",
            "('zona_leste', 0.12085862576782158)\n",
            "---\n",
            "('zona_norte', 0.1092699565639539)\n",
            "---\n",
            "('zona_oeste', 0.0)\n",
            "---\n",
            "('zona_sul', 0.0)\n",
            "---\n"
          ],
          "name": "stdout"
        }
      ]
    },
    {
      "cell_type": "code",
      "metadata": {
        "colab": {
          "base_uri": "https://localhost:8080/"
        },
        "id": "TUTQUhL_CddT",
        "outputId": "d567faca-f756-481d-e8a7-d6aaad74769b"
      },
      "source": [
        "dt.score(np.log1p(X_teste), np.log1p(y_teste))"
      ],
      "execution_count": null,
      "outputs": [
        {
          "output_type": "execute_result",
          "data": {
            "text/plain": [
              "0.4300659686835644"
            ]
          },
          "metadata": {
            "tags": []
          },
          "execution_count": 44
        }
      ]
    },
    {
      "cell_type": "code",
      "metadata": {
        "colab": {
          "base_uri": "https://localhost:8080/"
        },
        "id": "UD1yXLiZCrI7",
        "outputId": "cec7b951-75e9-45d9-9848-6eafc22d6fb2"
      },
      "source": [
        "print('Métricas da Árvore de Decisão')\n",
        "print('O R² foi:' , dt.score(np.log1p(X_teste), np.log1p(y_teste)))\n",
        "print('O MAE foi:' , mean_absolute_error(np.log1p(y_teste), y_pred_dt))\n",
        "print('O MSE foi:' , mean_squared_error(np.log1p(y_teste), y_pred_dt))"
      ],
      "execution_count": null,
      "outputs": [
        {
          "output_type": "stream",
          "text": [
            "Métricas da Árvore de Decisão\n",
            "O R² foi: 0.4300659686835644\n",
            "O MAE foi: 0.31084301601650277\n",
            "O MSE foi: 0.15988708418114633\n"
          ],
          "name": "stdout"
        }
      ]
    },
    {
      "cell_type": "code",
      "metadata": {
        "colab": {
          "base_uri": "https://localhost:8080/"
        },
        "id": "TIxqm7THLCkV",
        "outputId": "11ae57be-4a70-484b-f5ce-57c3b8dfdf4c"
      },
      "source": [
        "print('Métricas da Árvore de Decisão')\n",
        "print('O R² foi:' , dt.score(X_treino, y_treino))"
      ],
      "execution_count": null,
      "outputs": [
        {
          "output_type": "stream",
          "text": [
            "Métricas da Árvore de Decisão\n",
            "O R² foi: 0.42076553627113666\n"
          ],
          "name": "stdout"
        }
      ]
    },
    {
      "cell_type": "markdown",
      "metadata": {
        "id": "QN6Db0xzmEY_"
      },
      "source": [
        "# Aplicando o modelo Random Forest Regressor nos dados"
      ]
    },
    {
      "cell_type": "code",
      "metadata": {
        "id": "oONke4WsmJiw"
      },
      "source": [
        "rfr = RandomForestRegressor(random_state=SEED)"
      ],
      "execution_count": null,
      "outputs": []
    },
    {
      "cell_type": "markdown",
      "metadata": {
        "id": "BmO6961TFckK"
      },
      "source": [
        "# Usando o score de validação cruzada para escolher um modelo"
      ]
    },
    {
      "cell_type": "code",
      "metadata": {
        "id": "XRK_gnN1F44J"
      },
      "source": [
        "cv_base = cross_val_score(baseline, X_treino, y_treino)\n",
        "cv_reg = cross_val_score(reg, X_treino, y_treino)\n",
        "cv_knn = cross_val_score(knn, X_treino, y_treino)\n",
        "cv_dt = cross_val_score(dt, X_treino, y_treino)\n",
        "cv_rfr = cross_val_score(rfr, X_treino, y_treino)"
      ],
      "execution_count": null,
      "outputs": []
    },
    {
      "cell_type": "code",
      "metadata": {
        "colab": {
          "base_uri": "https://localhost:8080/"
        },
        "id": "neIfcbCMGWFk",
        "outputId": "d8ba7bdb-1acf-4ecf-92d0-a94f0389ca50"
      },
      "source": [
        "cv_base"
      ],
      "execution_count": null,
      "outputs": [
        {
          "output_type": "execute_result",
          "data": {
            "text/plain": [
              "array([-0.01469146, -0.01467077, -0.0144541 , -0.03461211, -0.01042012])"
            ]
          },
          "metadata": {
            "tags": []
          },
          "execution_count": 51
        }
      ]
    },
    {
      "cell_type": "code",
      "metadata": {
        "colab": {
          "base_uri": "https://localhost:8080/"
        },
        "id": "HXuotPdLGX4m",
        "outputId": "233c6d9d-f328-4b23-d406-9eea2b3f2f0e"
      },
      "source": [
        "cvs = [cv_base, cv_reg, cv_knn, cv_dt, cv_rfr]\n",
        "\n",
        "for cv, pontuacoes in enumerate(cvs):\n",
        "  print(f'{cv}: {np.mean(pontuacoes):.2f}')"
      ],
      "execution_count": null,
      "outputs": [
        {
          "output_type": "stream",
          "text": [
            "0: -0.02\n",
            "1: 0.44\n",
            "2: 0.40\n",
            "3: 0.33\n",
            "4: 0.35\n"
          ],
          "name": "stdout"
        }
      ]
    },
    {
      "cell_type": "markdown",
      "metadata": {
        "id": "mVCQygQzFGjr"
      },
      "source": [
        "## Usando a busca em grade com validação cruzada (Grid Search CV) para o Random Forest Regressor"
      ]
    },
    {
      "cell_type": "code",
      "metadata": {
        "id": "hSbjjInarjf2"
      },
      "source": [
        "parametros = {'max_depth': [5, 10, 30, 20],\n",
        "              'n_estimators': [100, 200, 150, 110]}"
      ],
      "execution_count": null,
      "outputs": []
    },
    {
      "cell_type": "code",
      "metadata": {
        "id": "f_GbxR19oJXn"
      },
      "source": [
        "gs = GridSearchCV(rfr, parametros, cv=5, scoring='r2', verbose=2)"
      ],
      "execution_count": null,
      "outputs": []
    },
    {
      "cell_type": "code",
      "metadata": {
        "colab": {
          "base_uri": "https://localhost:8080/"
        },
        "id": "_ds7Ml0hswfs",
        "outputId": "33d3cc23-1074-4a82-da24-af75a3f9723c"
      },
      "source": [
        "gs.fit(X_treino, y_treino)"
      ],
      "execution_count": null,
      "outputs": [
        {
          "output_type": "stream",
          "text": [
            "Fitting 5 folds for each of 16 candidates, totalling 80 fits\n",
            "[CV] max_depth=5, n_estimators=100 ...................................\n",
            "[CV] .................... max_depth=5, n_estimators=100, total=   0.2s\n",
            "[CV] max_depth=5, n_estimators=100 ...................................\n"
          ],
          "name": "stdout"
        },
        {
          "output_type": "stream",
          "text": [
            "[Parallel(n_jobs=1)]: Using backend SequentialBackend with 1 concurrent workers.\n",
            "[Parallel(n_jobs=1)]: Done   1 out of   1 | elapsed:    0.2s remaining:    0.0s\n"
          ],
          "name": "stderr"
        },
        {
          "output_type": "stream",
          "text": [
            "[CV] .................... max_depth=5, n_estimators=100, total=   0.2s\n",
            "[CV] max_depth=5, n_estimators=100 ...................................\n",
            "[CV] .................... max_depth=5, n_estimators=100, total=   0.2s\n",
            "[CV] max_depth=5, n_estimators=100 ...................................\n",
            "[CV] .................... max_depth=5, n_estimators=100, total=   0.2s\n",
            "[CV] max_depth=5, n_estimators=100 ...................................\n",
            "[CV] .................... max_depth=5, n_estimators=100, total=   0.2s\n",
            "[CV] max_depth=5, n_estimators=200 ...................................\n",
            "[CV] .................... max_depth=5, n_estimators=200, total=   0.3s\n",
            "[CV] max_depth=5, n_estimators=200 ...................................\n",
            "[CV] .................... max_depth=5, n_estimators=200, total=   0.3s\n",
            "[CV] max_depth=5, n_estimators=200 ...................................\n",
            "[CV] .................... max_depth=5, n_estimators=200, total=   0.3s\n",
            "[CV] max_depth=5, n_estimators=200 ...................................\n",
            "[CV] .................... max_depth=5, n_estimators=200, total=   0.3s\n",
            "[CV] max_depth=5, n_estimators=200 ...................................\n",
            "[CV] .................... max_depth=5, n_estimators=200, total=   0.3s\n",
            "[CV] max_depth=5, n_estimators=150 ...................................\n",
            "[CV] .................... max_depth=5, n_estimators=150, total=   0.3s\n",
            "[CV] max_depth=5, n_estimators=150 ...................................\n",
            "[CV] .................... max_depth=5, n_estimators=150, total=   0.2s\n",
            "[CV] max_depth=5, n_estimators=150 ...................................\n",
            "[CV] .................... max_depth=5, n_estimators=150, total=   0.3s\n",
            "[CV] max_depth=5, n_estimators=150 ...................................\n",
            "[CV] .................... max_depth=5, n_estimators=150, total=   0.2s\n",
            "[CV] max_depth=5, n_estimators=150 ...................................\n",
            "[CV] .................... max_depth=5, n_estimators=150, total=   0.3s\n",
            "[CV] max_depth=5, n_estimators=110 ...................................\n",
            "[CV] .................... max_depth=5, n_estimators=110, total=   0.2s\n",
            "[CV] max_depth=5, n_estimators=110 ...................................\n",
            "[CV] .................... max_depth=5, n_estimators=110, total=   0.2s\n",
            "[CV] max_depth=5, n_estimators=110 ...................................\n",
            "[CV] .................... max_depth=5, n_estimators=110, total=   0.2s\n",
            "[CV] max_depth=5, n_estimators=110 ...................................\n",
            "[CV] .................... max_depth=5, n_estimators=110, total=   0.2s\n",
            "[CV] max_depth=5, n_estimators=110 ...................................\n",
            "[CV] .................... max_depth=5, n_estimators=110, total=   0.2s\n",
            "[CV] max_depth=10, n_estimators=100 ..................................\n",
            "[CV] ................... max_depth=10, n_estimators=100, total=   0.2s\n",
            "[CV] max_depth=10, n_estimators=100 ..................................\n",
            "[CV] ................... max_depth=10, n_estimators=100, total=   0.2s\n",
            "[CV] max_depth=10, n_estimators=100 ..................................\n",
            "[CV] ................... max_depth=10, n_estimators=100, total=   0.2s\n",
            "[CV] max_depth=10, n_estimators=100 ..................................\n",
            "[CV] ................... max_depth=10, n_estimators=100, total=   0.2s\n",
            "[CV] max_depth=10, n_estimators=100 ..................................\n",
            "[CV] ................... max_depth=10, n_estimators=100, total=   0.2s\n",
            "[CV] max_depth=10, n_estimators=200 ..................................\n",
            "[CV] ................... max_depth=10, n_estimators=200, total=   0.4s\n",
            "[CV] max_depth=10, n_estimators=200 ..................................\n",
            "[CV] ................... max_depth=10, n_estimators=200, total=   0.4s\n",
            "[CV] max_depth=10, n_estimators=200 ..................................\n",
            "[CV] ................... max_depth=10, n_estimators=200, total=   0.4s\n",
            "[CV] max_depth=10, n_estimators=200 ..................................\n",
            "[CV] ................... max_depth=10, n_estimators=200, total=   0.4s\n",
            "[CV] max_depth=10, n_estimators=200 ..................................\n",
            "[CV] ................... max_depth=10, n_estimators=200, total=   0.4s\n",
            "[CV] max_depth=10, n_estimators=150 ..................................\n",
            "[CV] ................... max_depth=10, n_estimators=150, total=   0.3s\n",
            "[CV] max_depth=10, n_estimators=150 ..................................\n",
            "[CV] ................... max_depth=10, n_estimators=150, total=   0.3s\n",
            "[CV] max_depth=10, n_estimators=150 ..................................\n",
            "[CV] ................... max_depth=10, n_estimators=150, total=   0.3s\n",
            "[CV] max_depth=10, n_estimators=150 ..................................\n",
            "[CV] ................... max_depth=10, n_estimators=150, total=   0.3s\n",
            "[CV] max_depth=10, n_estimators=150 ..................................\n",
            "[CV] ................... max_depth=10, n_estimators=150, total=   0.3s\n",
            "[CV] max_depth=10, n_estimators=110 ..................................\n",
            "[CV] ................... max_depth=10, n_estimators=110, total=   0.2s\n",
            "[CV] max_depth=10, n_estimators=110 ..................................\n",
            "[CV] ................... max_depth=10, n_estimators=110, total=   0.2s\n",
            "[CV] max_depth=10, n_estimators=110 ..................................\n",
            "[CV] ................... max_depth=10, n_estimators=110, total=   0.2s\n",
            "[CV] max_depth=10, n_estimators=110 ..................................\n",
            "[CV] ................... max_depth=10, n_estimators=110, total=   0.2s\n",
            "[CV] max_depth=10, n_estimators=110 ..................................\n",
            "[CV] ................... max_depth=10, n_estimators=110, total=   0.2s\n",
            "[CV] max_depth=30, n_estimators=100 ..................................\n",
            "[CV] ................... max_depth=30, n_estimators=100, total=   0.2s\n",
            "[CV] max_depth=30, n_estimators=100 ..................................\n",
            "[CV] ................... max_depth=30, n_estimators=100, total=   0.2s\n",
            "[CV] max_depth=30, n_estimators=100 ..................................\n",
            "[CV] ................... max_depth=30, n_estimators=100, total=   0.2s\n",
            "[CV] max_depth=30, n_estimators=100 ..................................\n",
            "[CV] ................... max_depth=30, n_estimators=100, total=   0.2s\n",
            "[CV] max_depth=30, n_estimators=100 ..................................\n",
            "[CV] ................... max_depth=30, n_estimators=100, total=   0.2s\n",
            "[CV] max_depth=30, n_estimators=200 ..................................\n",
            "[CV] ................... max_depth=30, n_estimators=200, total=   0.4s\n",
            "[CV] max_depth=30, n_estimators=200 ..................................\n",
            "[CV] ................... max_depth=30, n_estimators=200, total=   0.4s\n",
            "[CV] max_depth=30, n_estimators=200 ..................................\n",
            "[CV] ................... max_depth=30, n_estimators=200, total=   0.4s\n",
            "[CV] max_depth=30, n_estimators=200 ..................................\n",
            "[CV] ................... max_depth=30, n_estimators=200, total=   0.4s\n",
            "[CV] max_depth=30, n_estimators=200 ..................................\n",
            "[CV] ................... max_depth=30, n_estimators=200, total=   0.4s\n",
            "[CV] max_depth=30, n_estimators=150 ..................................\n",
            "[CV] ................... max_depth=30, n_estimators=150, total=   0.3s\n",
            "[CV] max_depth=30, n_estimators=150 ..................................\n",
            "[CV] ................... max_depth=30, n_estimators=150, total=   0.3s\n",
            "[CV] max_depth=30, n_estimators=150 ..................................\n",
            "[CV] ................... max_depth=30, n_estimators=150, total=   0.3s\n",
            "[CV] max_depth=30, n_estimators=150 ..................................\n",
            "[CV] ................... max_depth=30, n_estimators=150, total=   0.3s\n",
            "[CV] max_depth=30, n_estimators=150 ..................................\n",
            "[CV] ................... max_depth=30, n_estimators=150, total=   0.3s\n",
            "[CV] max_depth=30, n_estimators=110 ..................................\n",
            "[CV] ................... max_depth=30, n_estimators=110, total=   0.2s\n",
            "[CV] max_depth=30, n_estimators=110 ..................................\n",
            "[CV] ................... max_depth=30, n_estimators=110, total=   0.2s\n",
            "[CV] max_depth=30, n_estimators=110 ..................................\n",
            "[CV] ................... max_depth=30, n_estimators=110, total=   0.2s\n",
            "[CV] max_depth=30, n_estimators=110 ..................................\n",
            "[CV] ................... max_depth=30, n_estimators=110, total=   0.2s\n",
            "[CV] max_depth=30, n_estimators=110 ..................................\n",
            "[CV] ................... max_depth=30, n_estimators=110, total=   0.2s\n",
            "[CV] max_depth=20, n_estimators=100 ..................................\n",
            "[CV] ................... max_depth=20, n_estimators=100, total=   0.2s\n",
            "[CV] max_depth=20, n_estimators=100 ..................................\n",
            "[CV] ................... max_depth=20, n_estimators=100, total=   0.2s\n",
            "[CV] max_depth=20, n_estimators=100 ..................................\n",
            "[CV] ................... max_depth=20, n_estimators=100, total=   0.2s\n",
            "[CV] max_depth=20, n_estimators=100 ..................................\n",
            "[CV] ................... max_depth=20, n_estimators=100, total=   0.2s\n",
            "[CV] max_depth=20, n_estimators=100 ..................................\n",
            "[CV] ................... max_depth=20, n_estimators=100, total=   0.2s\n",
            "[CV] max_depth=20, n_estimators=200 ..................................\n",
            "[CV] ................... max_depth=20, n_estimators=200, total=   0.4s\n",
            "[CV] max_depth=20, n_estimators=200 ..................................\n",
            "[CV] ................... max_depth=20, n_estimators=200, total=   0.4s\n",
            "[CV] max_depth=20, n_estimators=200 ..................................\n",
            "[CV] ................... max_depth=20, n_estimators=200, total=   0.4s\n",
            "[CV] max_depth=20, n_estimators=200 ..................................\n",
            "[CV] ................... max_depth=20, n_estimators=200, total=   0.4s\n",
            "[CV] max_depth=20, n_estimators=200 ..................................\n",
            "[CV] ................... max_depth=20, n_estimators=200, total=   0.4s\n",
            "[CV] max_depth=20, n_estimators=150 ..................................\n",
            "[CV] ................... max_depth=20, n_estimators=150, total=   0.3s\n",
            "[CV] max_depth=20, n_estimators=150 ..................................\n",
            "[CV] ................... max_depth=20, n_estimators=150, total=   0.3s\n",
            "[CV] max_depth=20, n_estimators=150 ..................................\n",
            "[CV] ................... max_depth=20, n_estimators=150, total=   0.3s\n",
            "[CV] max_depth=20, n_estimators=150 ..................................\n",
            "[CV] ................... max_depth=20, n_estimators=150, total=   0.3s\n",
            "[CV] max_depth=20, n_estimators=150 ..................................\n",
            "[CV] ................... max_depth=20, n_estimators=150, total=   0.3s\n",
            "[CV] max_depth=20, n_estimators=110 ..................................\n",
            "[CV] ................... max_depth=20, n_estimators=110, total=   0.2s\n",
            "[CV] max_depth=20, n_estimators=110 ..................................\n",
            "[CV] ................... max_depth=20, n_estimators=110, total=   0.2s\n",
            "[CV] max_depth=20, n_estimators=110 ..................................\n",
            "[CV] ................... max_depth=20, n_estimators=110, total=   0.2s\n",
            "[CV] max_depth=20, n_estimators=110 ..................................\n",
            "[CV] ................... max_depth=20, n_estimators=110, total=   0.2s\n",
            "[CV] max_depth=20, n_estimators=110 ..................................\n",
            "[CV] ................... max_depth=20, n_estimators=110, total=   0.3s\n"
          ],
          "name": "stdout"
        },
        {
          "output_type": "stream",
          "text": [
            "[Parallel(n_jobs=1)]: Done  80 out of  80 | elapsed:   22.6s finished\n"
          ],
          "name": "stderr"
        },
        {
          "output_type": "execute_result",
          "data": {
            "text/plain": [
              "GridSearchCV(cv=5, error_score=nan,\n",
              "             estimator=RandomForestRegressor(bootstrap=True, ccp_alpha=0.0,\n",
              "                                             criterion='mse', max_depth=None,\n",
              "                                             max_features='auto',\n",
              "                                             max_leaf_nodes=None,\n",
              "                                             max_samples=None,\n",
              "                                             min_impurity_decrease=0.0,\n",
              "                                             min_impurity_split=None,\n",
              "                                             min_samples_leaf=1,\n",
              "                                             min_samples_split=2,\n",
              "                                             min_weight_fraction_leaf=0.0,\n",
              "                                             n_estimators=100, n_jobs=None,\n",
              "                                             oob_score=False, random_state=42,\n",
              "                                             verbose=0, warm_start=False),\n",
              "             iid='deprecated', n_jobs=None,\n",
              "             param_grid={'max_depth': [5, 10, 30, 20],\n",
              "                         'n_estimators': [100, 200, 150, 110]},\n",
              "             pre_dispatch='2*n_jobs', refit=True, return_train_score=False,\n",
              "             scoring='r2', verbose=2)"
            ]
          },
          "metadata": {
            "tags": []
          },
          "execution_count": 21
        }
      ]
    },
    {
      "cell_type": "code",
      "metadata": {
        "colab": {
          "base_uri": "https://localhost:8080/"
        },
        "id": "MzhNhGRTtsQQ",
        "outputId": "e9359dcb-0a57-4bef-e404-c1bf80f8c33a"
      },
      "source": [
        "gs.best_score_"
      ],
      "execution_count": null,
      "outputs": [
        {
          "output_type": "execute_result",
          "data": {
            "text/plain": [
              "0.4470697180198509"
            ]
          },
          "metadata": {
            "tags": []
          },
          "execution_count": 22
        }
      ]
    },
    {
      "cell_type": "code",
      "metadata": {
        "colab": {
          "base_uri": "https://localhost:8080/"
        },
        "id": "U4fc37Jxt-pV",
        "outputId": "326f28cd-71d0-4dc4-c30f-e1fee9231c05"
      },
      "source": [
        "gs.best_estimator_"
      ],
      "execution_count": null,
      "outputs": [
        {
          "output_type": "execute_result",
          "data": {
            "text/plain": [
              "RandomForestRegressor(bootstrap=True, ccp_alpha=0.0, criterion='mse',\n",
              "                      max_depth=5, max_features='auto', max_leaf_nodes=None,\n",
              "                      max_samples=None, min_impurity_decrease=0.0,\n",
              "                      min_impurity_split=None, min_samples_leaf=1,\n",
              "                      min_samples_split=2, min_weight_fraction_leaf=0.0,\n",
              "                      n_estimators=200, n_jobs=None, oob_score=False,\n",
              "                      random_state=42, verbose=0, warm_start=False)"
            ]
          },
          "metadata": {
            "tags": []
          },
          "execution_count": 57
        }
      ]
    },
    {
      "cell_type": "code",
      "metadata": {
        "colab": {
          "base_uri": "https://localhost:8080/"
        },
        "id": "gotoGcTTuG38",
        "outputId": "01ae1772-8fe1-4c2e-e0e4-ad765c82825e"
      },
      "source": [
        "gs.best_params_"
      ],
      "execution_count": null,
      "outputs": [
        {
          "output_type": "execute_result",
          "data": {
            "text/plain": [
              "{'max_depth': 5, 'n_estimators': 200}"
            ]
          },
          "metadata": {
            "tags": []
          },
          "execution_count": 58
        }
      ]
    },
    {
      "cell_type": "code",
      "metadata": {
        "id": "LiPYjyZdvnaF"
      },
      "source": [
        "resultados_gs = pd.DataFrame(gs.cv_results_)"
      ],
      "execution_count": null,
      "outputs": []
    },
    {
      "cell_type": "code",
      "metadata": {
        "colab": {
          "base_uri": "https://localhost:8080/",
          "height": 467
        },
        "id": "rhGsnEmIwEXh",
        "outputId": "aa6b5deb-b4d9-4e95-8584-f400afc61bdb"
      },
      "source": [
        "resultados_gs.sort_values(by='mean_test_score', ascending=False).head()"
      ],
      "execution_count": null,
      "outputs": [
        {
          "output_type": "execute_result",
          "data": {
            "text/html": [
              "<div>\n",
              "<style scoped>\n",
              "    .dataframe tbody tr th:only-of-type {\n",
              "        vertical-align: middle;\n",
              "    }\n",
              "\n",
              "    .dataframe tbody tr th {\n",
              "        vertical-align: top;\n",
              "    }\n",
              "\n",
              "    .dataframe thead th {\n",
              "        text-align: right;\n",
              "    }\n",
              "</style>\n",
              "<table border=\"1\" class=\"dataframe\">\n",
              "  <thead>\n",
              "    <tr style=\"text-align: right;\">\n",
              "      <th></th>\n",
              "      <th>mean_fit_time</th>\n",
              "      <th>std_fit_time</th>\n",
              "      <th>mean_score_time</th>\n",
              "      <th>std_score_time</th>\n",
              "      <th>param_max_depth</th>\n",
              "      <th>param_n_estimators</th>\n",
              "      <th>params</th>\n",
              "      <th>split0_test_score</th>\n",
              "      <th>split1_test_score</th>\n",
              "      <th>split2_test_score</th>\n",
              "      <th>split3_test_score</th>\n",
              "      <th>split4_test_score</th>\n",
              "      <th>mean_test_score</th>\n",
              "      <th>std_test_score</th>\n",
              "      <th>rank_test_score</th>\n",
              "    </tr>\n",
              "  </thead>\n",
              "  <tbody>\n",
              "    <tr>\n",
              "      <th>1</th>\n",
              "      <td>0.281646</td>\n",
              "      <td>0.009169</td>\n",
              "      <td>0.014004</td>\n",
              "      <td>0.000112</td>\n",
              "      <td>5</td>\n",
              "      <td>200</td>\n",
              "      <td>{'max_depth': 5, 'n_estimators': 200}</td>\n",
              "      <td>0.430814</td>\n",
              "      <td>0.369273</td>\n",
              "      <td>0.491102</td>\n",
              "      <td>0.503093</td>\n",
              "      <td>0.441066</td>\n",
              "      <td>0.447070</td>\n",
              "      <td>0.047812</td>\n",
              "      <td>1</td>\n",
              "    </tr>\n",
              "    <tr>\n",
              "      <th>3</th>\n",
              "      <td>0.155583</td>\n",
              "      <td>0.007954</td>\n",
              "      <td>0.008793</td>\n",
              "      <td>0.000728</td>\n",
              "      <td>5</td>\n",
              "      <td>110</td>\n",
              "      <td>{'max_depth': 5, 'n_estimators': 110}</td>\n",
              "      <td>0.432345</td>\n",
              "      <td>0.370894</td>\n",
              "      <td>0.487193</td>\n",
              "      <td>0.501851</td>\n",
              "      <td>0.440161</td>\n",
              "      <td>0.446489</td>\n",
              "      <td>0.046209</td>\n",
              "      <td>2</td>\n",
              "    </tr>\n",
              "    <tr>\n",
              "      <th>2</th>\n",
              "      <td>0.217660</td>\n",
              "      <td>0.005799</td>\n",
              "      <td>0.011231</td>\n",
              "      <td>0.000339</td>\n",
              "      <td>5</td>\n",
              "      <td>150</td>\n",
              "      <td>{'max_depth': 5, 'n_estimators': 150}</td>\n",
              "      <td>0.431309</td>\n",
              "      <td>0.370786</td>\n",
              "      <td>0.487607</td>\n",
              "      <td>0.501016</td>\n",
              "      <td>0.438749</td>\n",
              "      <td>0.445893</td>\n",
              "      <td>0.046224</td>\n",
              "      <td>3</td>\n",
              "    </tr>\n",
              "    <tr>\n",
              "      <th>0</th>\n",
              "      <td>0.151017</td>\n",
              "      <td>0.006550</td>\n",
              "      <td>0.008328</td>\n",
              "      <td>0.000571</td>\n",
              "      <td>5</td>\n",
              "      <td>100</td>\n",
              "      <td>{'max_depth': 5, 'n_estimators': 100}</td>\n",
              "      <td>0.431147</td>\n",
              "      <td>0.371296</td>\n",
              "      <td>0.486525</td>\n",
              "      <td>0.499877</td>\n",
              "      <td>0.439399</td>\n",
              "      <td>0.445649</td>\n",
              "      <td>0.045584</td>\n",
              "      <td>4</td>\n",
              "    </tr>\n",
              "    <tr>\n",
              "      <th>7</th>\n",
              "      <td>0.186820</td>\n",
              "      <td>0.001860</td>\n",
              "      <td>0.010045</td>\n",
              "      <td>0.000168</td>\n",
              "      <td>10</td>\n",
              "      <td>110</td>\n",
              "      <td>{'max_depth': 10, 'n_estimators': 110}</td>\n",
              "      <td>0.364020</td>\n",
              "      <td>0.301476</td>\n",
              "      <td>0.490721</td>\n",
              "      <td>0.413730</td>\n",
              "      <td>0.385967</td>\n",
              "      <td>0.391183</td>\n",
              "      <td>0.062014</td>\n",
              "      <td>5</td>\n",
              "    </tr>\n",
              "  </tbody>\n",
              "</table>\n",
              "</div>"
            ],
            "text/plain": [
              "   mean_fit_time  std_fit_time  ...  std_test_score  rank_test_score\n",
              "1       0.281646      0.009169  ...        0.047812                1\n",
              "3       0.155583      0.007954  ...        0.046209                2\n",
              "2       0.217660      0.005799  ...        0.046224                3\n",
              "0       0.151017      0.006550  ...        0.045584                4\n",
              "7       0.186820      0.001860  ...        0.062014                5\n",
              "\n",
              "[5 rows x 15 columns]"
            ]
          },
          "metadata": {
            "tags": []
          },
          "execution_count": 60
        }
      ]
    },
    {
      "cell_type": "code",
      "metadata": {
        "id": "xM6yOhFNn0BA"
      },
      "source": [
        "rfr_tunado = RandomForestRegressor(max_depth=5, \n",
        "                                   n_estimators=200, \n",
        "                                   random_state=SEED)"
      ],
      "execution_count": null,
      "outputs": []
    },
    {
      "cell_type": "code",
      "metadata": {
        "colab": {
          "base_uri": "https://localhost:8080/"
        },
        "id": "fXRUeZ6xxWjo",
        "outputId": "fef11b6e-e9f7-4324-e0e8-3fa911dbe43f"
      },
      "source": [
        "rfr_tunado.fit(X_treino, y_treino)\n",
        "y_pred_rfr_tunado = rfr_tunado.predict(X_teste)\n",
        "print('O R² final do Random Forest após a busca de hiperparâmetros e a validação cruzada é:', rfr_tunado.score(np.log1p(X_teste), np.log1p(y_teste)))"
      ],
      "execution_count": null,
      "outputs": [
        {
          "output_type": "stream",
          "text": [
            "O R² final do Random Forest após a busca de hiperparâmetros e a validação cruzada é: 0.5009271137455349\n"
          ],
          "name": "stdout"
        }
      ]
    },
    {
      "cell_type": "markdown",
      "metadata": {
        "id": "H1rBfjkPyJnA"
      },
      "source": [
        "# Salvando o modelo"
      ]
    },
    {
      "cell_type": "code",
      "metadata": {
        "id": "416KieQ_yIj8"
      },
      "source": [
        "import pickle"
      ],
      "execution_count": null,
      "outputs": []
    },
    {
      "cell_type": "code",
      "metadata": {
        "id": "RfevxnYByfvK"
      },
      "source": [
        "# para criar o arquivo do pickle, .pkl, fazemos um pickle.dump\n",
        "# passando o nome do modelo que queremos salvar, o nome do arquivo dentro de open\n",
        "# e a escrita em binário com wb (write binary)\n",
        "pickle.dump(rfr_tunado, open('modelo_rfr.pkl', 'wb'))"
      ],
      "execution_count": null,
      "outputs": []
    },
    {
      "cell_type": "code",
      "metadata": {
        "id": "RJgT0pKBzZUT"
      },
      "source": [
        "modelo_final = pickle.load(open('modelo_rfr.pkl', 'rb'))"
      ],
      "execution_count": null,
      "outputs": []
    },
    {
      "cell_type": "code",
      "metadata": {
        "colab": {
          "base_uri": "https://localhost:8080/"
        },
        "id": "ij8h-34hztO8",
        "outputId": "56e3a0fd-65a8-43dd-cb27-46c6e5efef1c"
      },
      "source": [
        "modelo_final.score(np.log1p(X_teste), np.log1p(y_teste))"
      ],
      "execution_count": null,
      "outputs": [
        {
          "output_type": "execute_result",
          "data": {
            "text/plain": [
              "0.5009271137455349"
            ]
          },
          "metadata": {
            "tags": []
          },
          "execution_count": 66
        }
      ]
    },
    {
      "cell_type": "code",
      "metadata": {
        "id": "w5y5cpFJ0SIL"
      },
      "source": [
        "# # depois de 5 anos se precisarmos recalibrar o modelo\n",
        "# modelo = pickle.load(open('modelo_rfr_tunado.pkl', 'rb'))\n",
        "# modelo.fit(X_treino, y_treino)\n",
        "# gs_pos_5_anos = GridSearchCV(modelo, parametros)\n",
        "# gs_pos_5_anos.best_estimator_"
      ],
      "execution_count": null,
      "outputs": []
    }
  ]
}